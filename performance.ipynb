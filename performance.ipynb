{
 "cells": [
  {
   "cell_type": "code",
   "execution_count": 14,
   "metadata": {},
   "outputs": [],
   "source": [
    "from pyspark import SparkContext, SparkConf, SQLContext\n",
    "from pyspark.sql import SparkSession\n",
    "from pyspark.sql.functions import desc\n",
    "import subprocess\n",
    "from pyspark.sql.functions import col, max as max_"
   ]
  },
  {
   "cell_type": "code",
   "execution_count": 4,
   "metadata": {},
   "outputs": [],
   "source": [
    "year = 'hdfs://localhost:9000/user/student/airline/1987.csv'"
   ]
  },
  {
   "cell_type": "code",
   "execution_count": 5,
   "metadata": {},
   "outputs": [],
   "source": [
    "spark = SparkSession.builder.appName(\"performance-app\").config(\"spark.config.option\", \"value\").getOrCreate()"
   ]
  },
  {
   "cell_type": "code",
   "execution_count": 6,
   "metadata": {},
   "outputs": [],
   "source": [
    "df = spark.read.option(\"header\", \"true\").csv(year)"
   ]
  },
  {
   "cell_type": "code",
   "execution_count": 8,
   "metadata": {},
   "outputs": [],
   "source": [
    "orig_airports = df.groupBy('Origin').count().orderBy(desc('count'))"
   ]
  },
  {
   "cell_type": "code",
   "execution_count": 9,
   "metadata": {},
   "outputs": [
    {
     "data": {
      "text/plain": [
       "Row(Origin='ORD', count=67216)"
      ]
     },
     "execution_count": 9,
     "metadata": {},
     "output_type": "execute_result"
    }
   ],
   "source": [
    "orig_airports.first()"
   ]
  },
  {
   "cell_type": "code",
   "execution_count": 10,
   "metadata": {},
   "outputs": [
    {
     "data": {
      "text/plain": [
       "DataFrame[Year: string, Month: string, DayofMonth: string, DayOfWeek: string, DepTime: string, CRSDepTime: string, ArrTime: string, CRSArrTime: string, UniqueCarrier: string, FlightNum: string, TailNum: string, ActualElapsedTime: string, CRSElapsedTime: string, AirTime: string, ArrDelay: string, DepDelay: string, Origin: string, Dest: string, Distance: string, TaxiIn: string, TaxiOut: string, Cancelled: string, CancellationCode: string, Diverted: string, CarrierDelay: string, WeatherDelay: string, NASDelay: string, SecurityDelay: string, LateAircraftDelay: string]"
      ]
     },
     "execution_count": 10,
     "metadata": {},
     "output_type": "execute_result"
    }
   ],
   "source": [
    "df"
   ]
  },
  {
   "cell_type": "code",
   "execution_count": 27,
   "metadata": {},
   "outputs": [],
   "source": [
    "arr_delay_origins = df.withColumn('ArrDelay', col('ArrDelay').cast('integer')).groupBy('Origin').sum('ArrDelay')"
   ]
  },
  {
   "cell_type": "code",
   "execution_count": 30,
   "metadata": {},
   "outputs": [
    {
     "data": {
      "text/plain": [
       "DataFrame[Origin: string, sum(ArrDelay): bigint]"
      ]
     },
     "execution_count": 30,
     "metadata": {},
     "output_type": "execute_result"
    }
   ],
   "source": [
    "arr_delay_origins"
   ]
  },
  {
   "cell_type": "code",
   "execution_count": 33,
   "metadata": {},
   "outputs": [
    {
     "name": "stdout",
     "output_type": "stream",
     "text": [
      "+------+-------------+\n",
      "|Origin|sum(ArrDelay)|\n",
      "+------+-------------+\n",
      "|   LAX|       698222|\n",
      "|   ATL|       608198|\n",
      "|   SFO|       576020|\n",
      "|   ORD|       536786|\n",
      "|   DFW|       505833|\n",
      "|   DEN|       473853|\n",
      "|   PHX|       358504|\n",
      "|   PIT|       312843|\n",
      "|   DTW|       310199|\n",
      "|   CLT|       302562|\n",
      "|   BOS|       289699|\n",
      "|   STL|       284874|\n",
      "|   EWR|       281920|\n",
      "|   MSP|       249633|\n",
      "|   MEM|       214929|\n",
      "|   PHL|       210120|\n",
      "|   CVG|       206436|\n",
      "|   SEA|       206139|\n",
      "|   LGA|       206135|\n",
      "|   SLC|       202789|\n",
      "+------+-------------+\n",
      "only showing top 20 rows\n",
      "\n"
     ]
    }
   ],
   "source": [
    "arr_delay_origins.orderBy(desc('sum(ArrDelay)')).show()"
   ]
  },
  {
   "cell_type": "code",
   "execution_count": 34,
   "metadata": {},
   "outputs": [
    {
     "name": "stdout",
     "output_type": "stream",
     "text": [
      "+------+-------------+\n",
      "|Origin|sum(ArrDelay)|\n",
      "+------+-------------+\n",
      "|   LAX|       698222|\n",
      "|   ATL|       608198|\n",
      "|   SFO|       576020|\n",
      "|   ORD|       536786|\n",
      "|   DFW|       505833|\n",
      "|   DEN|       473853|\n",
      "|   PHX|       358504|\n",
      "|   PIT|       312843|\n",
      "|   DTW|       310199|\n",
      "|   CLT|       302562|\n",
      "|   BOS|       289699|\n",
      "|   STL|       284874|\n",
      "|   EWR|       281920|\n",
      "|   MSP|       249633|\n",
      "|   MEM|       214929|\n",
      "|   PHL|       210120|\n",
      "|   CVG|       206436|\n",
      "|   SEA|       206139|\n",
      "|   LGA|       206135|\n",
      "|   SLC|       202789|\n",
      "+------+-------------+\n",
      "only showing top 20 rows\n",
      "\n"
     ]
    }
   ],
   "source": [
    "arr_delay_origins = df.withColumn('ArrDelay', col('ArrDelay').cast('integer'))\\\n",
    "                      .groupBy('Origin').sum('ArrDelay')\\\n",
    "                      .orderBy(desc('sum(ArrDelay)')).show()"
   ]
  },
  {
   "cell_type": "code",
   "execution_count": 35,
   "metadata": {},
   "outputs": [],
   "source": [
    "most_arr_delay_origin = df.withColumn('ArrDelay', col('ArrDelay').cast('integer'))\\\n",
    "                          .groupBy('Origin').sum('ArrDelay')\\\n",
    "                          .orderBy(desc('sum(ArrDelay)')).first()"
   ]
  },
  {
   "cell_type": "code",
   "execution_count": 36,
   "metadata": {},
   "outputs": [
    {
     "data": {
      "text/plain": [
       "Row(Origin='LAX', sum(ArrDelay)=698222)"
      ]
     },
     "execution_count": 36,
     "metadata": {},
     "output_type": "execute_result"
    }
   ],
   "source": [
    "most_arr_delay_origin"
   ]
  },
  {
   "cell_type": "code",
   "execution_count": null,
   "metadata": {},
   "outputs": [],
   "source": []
  }
 ],
 "metadata": {
  "kernelspec": {
   "display_name": "Python 3",
   "language": "python",
   "name": "python3"
  },
  "language_info": {
   "codemirror_mode": {
    "name": "ipython",
    "version": 3
   },
   "file_extension": ".py",
   "mimetype": "text/x-python",
   "name": "python",
   "nbconvert_exporter": "python",
   "pygments_lexer": "ipython3",
   "version": "3.6.9"
  }
 },
 "nbformat": 4,
 "nbformat_minor": 4
}
